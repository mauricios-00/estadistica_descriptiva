{
 "cells": [
  {
   "cell_type": "markdown",
   "source": "### Escalamiento de datos numéricos\n#### Transformaciones lineales\n\nimportar librerías: \n\n**timeit** mide el performance de los modelos para poder observar qué tan eficiente es el algoritmo a la hora de ejecutar la convergencia normalizando los datos\n\n* mide el tiempo de ejecución de los modelos\n\n**sklearn** con las funciones: dataset (descargar el dataset) y linear_model(regresión lineal sencilla)\n\n**pandas** \n\n**matplotlib.pyplot**\n\n",
   "metadata": {
    "cell_id": "3e07a84da7d047c0b0af6985b82e53f0",
    "tags": [],
    "deepnote_cell_type": "markdown",
    "deepnote_cell_height": 341.29998779296875
   }
  },
  {
   "cell_type": "code",
   "metadata": {
    "tags": [],
    "cell_id": "f5579e4e-3b97-4d32-8efe-01a5f6df90a4",
    "deepnote_to_be_reexecuted": false,
    "source_hash": "50ca750",
    "execution_start": 1651971780303,
    "execution_millis": 2260,
    "deepnote_cell_type": "code",
    "deepnote_cell_height": 153
   },
   "source": "import timeit\nimport numpy as np\nimport pandas as pd\nimport matplotlib.pyplot as plt\nfrom sklearn import datasets , linear_model",
   "execution_count": null,
   "outputs": []
  },
  {
   "cell_type": "markdown",
   "source": "1- cargar el dataset con dos variables\n\n2- determinar los datos crudos sin normalizar: `raw= X[ : , None , 2 ]`\n* esta transformación puede crear un pooco de confusión si no se conocen algunos detalles de Numpy.\n \"X\" tiene un shape de (442 elementos * columna,10 columnas)\n * * para el estudio, solo se necesita una columna, por lo que buscamos tener un \"raw\" de 1 con sos demás elementos \n * * \" : \" tiene todas las columnas y filas\n * * \" None \" indica la transformación del array(*newaxis*)\n * * \" 2 \" selecciona la 3ra columna de x \n",
   "metadata": {
    "cell_id": "58e3b258a95e4b998faa6ca4271da96c",
    "tags": [],
    "deepnote_cell_type": "markdown",
    "deepnote_cell_height": 323.70001220703125
   }
  },
  {
   "cell_type": "code",
   "metadata": {
    "cell_id": "fb182ff260ab4eda965ee38d7774e699",
    "tags": [],
    "deepnote_to_be_reexecuted": false,
    "source_hash": "91b2e4a",
    "execution_start": 1651971786901,
    "execution_millis": 33,
    "deepnote_cell_type": "code",
    "deepnote_cell_height": 117
   },
   "source": "X,y = datasets.load_diabetes(return_X_y = True) #1 ( variable \"y\" contiene los datos)\nraw = X [: , None , 2] # sin slices, indicar nuevo eje , seleccionar columna 3 (sub 2)\n",
   "execution_count": null,
   "outputs": []
  },
  {
   "cell_type": "markdown",
   "source": "establecer lar reglas de escalamiento: *min/max*\n\n(2 * raw -min - max ) / max - min ",
   "metadata": {
    "cell_id": "bfc7212f50c34c97bfe2777206257b4c",
    "tags": [],
    "deepnote_cell_type": "markdown",
    "deepnote_cell_height": 88.80000305175781
   }
  },
  {
   "cell_type": "code",
   "metadata": {
    "cell_id": "1ba88127f9744940ada7ffeaf055a481",
    "tags": [],
    "deepnote_to_be_reexecuted": false,
    "source_hash": "f95dc2aa",
    "execution_start": 1651971791019,
    "execution_millis": 6,
    "deepnote_cell_type": "code",
    "deepnote_cell_height": 117
   },
   "source": "min_raw= min(raw)\nmax_raw = max(raw)\nscaled_max_min = (2 *raw - min_raw - max_raw) / (max_raw - min_raw)",
   "execution_count": null,
   "outputs": []
  },
  {
   "cell_type": "markdown",
   "source": "#### Graficar histogramas: crudo y normalizado \ncomprobar la eficiencia del escalemiento con la librería timeit:\n* 1- crear un objeto con dos variables, el primero equivalente a la figura y el segundo a los ejes:\n* * los ojos son para definir la posición del gráfico ( arriba, abajo, etc) \n* 2- definir las gráficas que se van a dibujar con la función `plt.subplots` (*matplotlib*) con parámetros:\n* * indicar cuántas filas y columnas tendrá la gráfica ( 2 filas , 1 columna )\n* * con `sharex = True`inicar que las gráficas compartirán el eje x, para que sea más fácil de comparar \n* * finalmente hay que saignar un gráfico en cada eje, la variable \"axs\" generará un array de dos gráficos, aclarando qué gráfico estará en qué posición\n    `axs[0] = grafico ,  axs[1] = otro_grafico`\n\n* * * para graficar se usa la función `hist()` como parámetro hay que indicar la variable que contiene la gráfica    \n\n        siendo de la siguiente forma:  \n        * `fig , axs = plt.subplots(2,1 , sharex = True)`\n        * `axs[0].hist(raw)`\n        * `axs[1].hist(scaled_max_min)`",
   "metadata": {
    "cell_id": "fcd8dea4584142c2aa4fdb564f5263b3",
    "tags": [],
    "deepnote_cell_type": "markdown",
    "deepnote_cell_height": 484.70001220703125
   }
  },
  {
   "cell_type": "code",
   "metadata": {
    "cell_id": "7547c64439d64074b3fb05beea01f464",
    "tags": [],
    "deepnote_to_be_reexecuted": false,
    "source_hash": "2b0acaa2",
    "execution_start": 1651971795610,
    "execution_millis": 316,
    "deepnote_cell_type": "code",
    "deepnote_cell_height": 476,
    "deepnote_output_heights": [
     60,
     252
    ]
   },
   "source": "fig , axs = plt.subplots(2 ,1 , sharex = True)\naxs[0].hist(raw)\naxs[1].hist(scaled_max_min)",
   "execution_count": null,
   "outputs": [
    {
     "output_type": "execute_result",
     "execution_count": 5,
     "data": {
      "text/plain": "(array([32., 66., 98., 90., 64., 50., 23., 12.,  5.,  2.]),\n array([-1. , -0.8, -0.6, -0.4, -0.2,  0. ,  0.2,  0.4,  0.6,  0.8,  1. ]),\n <BarContainer object of 10 artists>)"
     },
     "metadata": {}
    },
    {
     "data": {
      "text/plain": "<Figure size 432x288 with 2 Axes>",
      "image/png": "[encoded data removed]"
     },
     "metadata": {
      "needs_background": "light",
      "image/png": {
       "width": 375,
       "height": 250
      }
     },
     "output_type": "display_data"
    }
   ]
  },
  {
   "cell_type": "markdown",
   "source": "Podemos observar que los datos están escalados entre valores [-1 , 1], y que estamos ante una distribución NO gaussiana",
   "metadata": {
    "cell_id": "cc869d86150242aba5ae87d1f53f90ff",
    "tags": [],
    "deepnote_cell_type": "markdown",
    "deepnote_cell_height": 52.399993896484375
   }
  },
  {
   "cell_type": "markdown",
   "source": "### Entrenar el modelo\nusando la función `.LinearRegression` de la clase `linear model`, ubicada en *sklearn*\n* Posteriormente hay que ajustar el modelo a los datos especificados usando la funcion `fit()` con el dataset como parámetro, y la variable \" y \" porque inicialmente se le pasaron los elementos del dataset por medio de esta variable (ver: #1)\n\nquedando así: \n\n* * `def train_raw():`\n* * `   linear_model.LinearRegression().fit(raw, y)`\n\nPara comparar el comportamiento de ambos modelos (crudo y normalizado) habría que ejecutar una función similar pero con el modelo normalizado\n",
   "metadata": {
    "cell_id": "548cd15e0e5a434fa2983c2674df1e1f",
    "tags": [],
    "deepnote_cell_type": "markdown",
    "deepnote_cell_height": 328.70001220703125
   }
  },
  {
   "cell_type": "code",
   "metadata": {
    "cell_id": "3176b3e8bff449aeb85a2674014ae4c6",
    "tags": [],
    "deepnote_to_be_reexecuted": false,
    "source_hash": "a439152",
    "execution_start": 1651971800686,
    "execution_millis": 2,
    "deepnote_cell_type": "code",
    "deepnote_cell_height": 153
   },
   "source": "def train_raw():\n    linear_model.LinearRegression().fit(raw, y)\n\ndef train_Scaled_max_min():\n    linear_model.LinearRegression().fit(scaled_max_min, y)",
   "execution_count": null,
   "outputs": []
  },
  {
   "cell_type": "markdown",
   "source": "#### Tiempo de ejecución del modelo\nYa estaría listo para calcular los tiempos que se toma la ejecución de un modelo, para ello, dentro de una variable hay que invocar a la función `timeit` de *timeit* con parámetros:\n* la función de entrenamiento del modelo\n* con la variable `number = #` aclarar cuántas veces para calcular el tiempo de ejecución\n\nhacer esto con lasfunciones del entremaniento con datos crudos y normalizados\n\n",
   "metadata": {
    "cell_id": "37f7e0b678664a02bc4c23bb317594bd",
    "tags": [],
    "deepnote_cell_type": "markdown",
    "deepnote_cell_height": 210
   }
  },
  {
   "cell_type": "code",
   "metadata": {
    "cell_id": "768dd3eef5314ec1811ca30908b2d524",
    "tags": [],
    "deepnote_to_be_reexecuted": false,
    "source_hash": "bdc71d55",
    "execution_start": 1651971804240,
    "execution_millis": 74,
    "deepnote_cell_type": "code",
    "deepnote_cell_height": 165.1999969482422
   },
   "source": "raw_time = timeit.timeit(train_raw, number = 100)\nscaled_max_main_time = timeit.timeit(train_Scaled_max_min , number = 100)\n\nprint('Train raw : {}'.format(raw_time) + '   Train Scaled max min = {}'.format(scaled_max_main_time))",
   "execution_count": null,
   "outputs": [
    {
     "name": "stdout",
     "text": "Train raw : 0.05165642400243087   Train Scaled max min = 0.034199260000605136\n",
     "output_type": "stream"
    }
   ]
  },
  {
   "cell_type": "markdown",
   "source": "Se observa que el entrenamiento del modelo normalizado es ligeramente mas eficiente, que si bien no hay mucha diferencia, podría notarse con dataset más grandes",
   "metadata": {
    "cell_id": "31fed859bdb94748b61463a90193905f",
    "tags": [],
    "deepnote_cell_type": "markdown",
    "deepnote_cell_height": 74.80000305175781
   }
  },
  {
   "cell_type": "markdown",
   "source": "Ejecutar un entrenamiento con el algoritmo \"z scaled\"",
   "metadata": {
    "cell_id": "0e109e0526ab49dfaa366dcd08857eec",
    "tags": [],
    "deepnote_cell_type": "markdown",
    "deepnote_cell_height": 52.399993896484375
   }
  },
  {
   "cell_type": "markdown",
   "source": "### Transformaciones no lineales\n\nimportar dataset de los carros",
   "metadata": {
    "cell_id": "fa8fe822efd5468287dad8567b8128fb",
    "tags": [],
    "deepnote_cell_type": "markdown",
    "deepnote_cell_height": 100.39999389648438
   }
  },
  {
   "cell_type": "code",
   "metadata": {
    "cell_id": "f048468e547244d2893fb431cdb8dfa2",
    "tags": [],
    "deepnote_to_be_reexecuted": false,
    "source_hash": "f2d578bb",
    "execution_start": 1651971807475,
    "execution_millis": 169,
    "deepnote_cell_type": "code",
    "deepnote_cell_height": 81
   },
   "source": "df = pd.read_csv('cars.csv')",
   "execution_count": null,
   "outputs": []
  },
  {
   "cell_type": "markdown",
   "source": "Graficar histograma de la columna \"price_usd\"",
   "metadata": {
    "cell_id": "5f115330b9a34b0bbb1127d18f9905df",
    "tags": [],
    "deepnote_cell_type": "markdown",
    "deepnote_cell_height": 52.399993896484375
   }
  },
  {
   "cell_type": "code",
   "metadata": {
    "cell_id": "e129d1b2e6b344b89d28ba8a329b4ed1",
    "tags": [],
    "deepnote_to_be_reexecuted": false,
    "source_hash": "1d9343bd",
    "execution_start": 1651971811527,
    "execution_millis": 255,
    "deepnote_cell_type": "code",
    "deepnote_cell_height": 399,
    "deepnote_output_heights": [
     21,
     250
    ]
   },
   "source": "df.price_usd.hist()",
   "execution_count": null,
   "outputs": [
    {
     "output_type": "execute_result",
     "execution_count": 9,
     "data": {
      "text/plain": "<AxesSubplot:>"
     },
     "metadata": {}
    },
    {
     "data": {
      "text/plain": "<Figure size 432x288 with 1 Axes>",
      "image/png": "[encoded data removed]"
     },
     "metadata": {
      "needs_background": "light",
      "image/png": {
       "width": 388,
       "height": 248
      }
     },
     "output_type": "display_data"
    }
   ]
  },
  {
   "cell_type": "markdown",
   "source": "Para ejecutar una transfomación no lineal, utilizar la tangente hiperbólica: $$\\text tanh(x)$$ con la librería *pandas* \n* usando la función `apply()` que toma todos los elementos de una columna especificada y les aplica una misma función (matemáticas). En consecuencia se produce una transformación gracias a la función matemática\n\n* * la función `apply()` recibe parámetros lambda como parámetro. En ella  hay que declarar la función matemática:\n* * * 1- lambda **x**:  *\"x\"  es el nombre de la variable*\n* * * 2- función $$ \\text tanh $$ aplicada a la variable \"**x**\"  que se va encontrando en esa columna, invocñandola desde la librería de *numpy*\n* * * 3- para graficar un histograma con la función `tanh(x)` se usa `hist()` \n\nQuedando de la siguiente forma: \n \n`df.price_usd.apply(lambda x : np.tanh(x)).hist()`\n",
   "metadata": {
    "cell_id": "f91ee03f4d874ef99dd8527efdcaf26f",
    "tags": [],
    "deepnote_cell_type": "markdown",
    "deepnote_cell_height": 343
   }
  },
  {
   "cell_type": "code",
   "metadata": {
    "cell_id": "d1e5bc0a09b548e59c37f9effc24aecd",
    "tags": [],
    "deepnote_to_be_reexecuted": false,
    "source_hash": "e5b8536e",
    "execution_start": 1651962658057,
    "execution_millis": 295,
    "deepnote_cell_type": "code",
    "deepnote_cell_height": 401,
    "deepnote_output_heights": [
     21,
     252
    ]
   },
   "source": "df.price_usd.apply(lambda x : np.tanh(x)).hist()",
   "execution_count": null,
   "outputs": [
    {
     "output_type": "execute_result",
     "execution_count": 9,
     "data": {
      "text/plain": "<AxesSubplot:>"
     },
     "metadata": {}
    },
    {
     "data": {
      "text/plain": "<Figure size 432x288 with 1 Axes>",
      "image/png": "[encoded data removed]"
     },
     "metadata": {
      "needs_background": "light",
      "image/png": {
       "width": 387,
       "height": 250
      }
     },
     "output_type": "display_data"
    }
   ]
  },
  {
   "cell_type": "markdown",
   "source": "Se observa que se colapsa todo un un solo valor, esto se debe a que era necesario calibrar la tangente hiperbólica dividiendo entre un número  \"p\" dentro de la función `np.tanh(x)` y ese número se va calibrando para ajustarlo. y así convertir los elementos a una posición más uniforme\n\n Siendo 10000 un número indicado para su normalización ",
   "metadata": {
    "cell_id": "6fc7c8b43bd04c158300f87f9a50604d",
    "tags": [],
    "deepnote_cell_type": "markdown",
    "deepnote_cell_height": 133.60000610351562
   }
  },
  {
   "cell_type": "code",
   "metadata": {
    "cell_id": "111c009d273c457ba244f5a1ae988192",
    "tags": [],
    "deepnote_to_be_reexecuted": false,
    "source_hash": "bb428c3c",
    "execution_start": 1651962658421,
    "execution_millis": 244,
    "deepnote_cell_type": "code",
    "deepnote_cell_height": 417,
    "deepnote_output_heights": [
     21,
     250
    ]
   },
   "source": "p= 10000\ndf.price_usd.apply(lambda x : np.tanh(x/p)).hist()",
   "execution_count": null,
   "outputs": [
    {
     "output_type": "execute_result",
     "execution_count": 10,
     "data": {
      "text/plain": "<AxesSubplot:>"
     },
     "metadata": {}
    },
    {
     "data": {
      "text/plain": "<Figure size 432x288 with 1 Axes>",
      "image/png": "[encoded data removed]"
     },
     "metadata": {
      "needs_background": "light",
      "image/png": {
       "width": 381,
       "height": 248
      }
     },
     "output_type": "display_data"
    }
   ]
  },
  {
   "cell_type": "markdown",
   "source": "Aplicar un escalamiento z-score en el ejemplo anterior:\n\n1-variable con datos crudos, luego y graficarlos para saber cual es su comportamiento\n2- aplicar el escalamiento z-score para saber cuál es su comportamiento\n\n3- dependiendo de cual sea el resultado y ver cuál es el más óptimo (probablemente z score) hacer una transformaciónn no lineal, aplicándola a ambas distribuciones\n\n* * Sacar promedio específico de columna (average)\n* * Sacar desviación estándar (std)\n* * implementar fórmula z scaled\n\n4- establecer el lugar donde estarán las gráficas, comparando datos crudos y escalados\n\n* * declarar dos variables (figura y axs) que van a iterar sobre la función `plt.subplots` con parámetros:\n* * *  cantidas de gráficas (2 ) lugar donde estarán posicionadas (1) \n* * *  aclarar de que compartirán el eje x ( *sharex =* ) \n* * *  aclarar el layout\n\n\n\n\n\n\n\n\n",
   "metadata": {
    "cell_id": "0e37c8c5fc804882acd8c731af337a28",
    "tags": [],
    "deepnote_cell_type": "markdown",
    "deepnote_cell_height": 478.70001220703125
   }
  },
  {
   "cell_type": "code",
   "metadata": {
    "cell_id": "6dfe88293b5841619571a632d3eda5bf",
    "tags": [],
    "deepnote_to_be_reexecuted": false,
    "source_hash": "66a78825",
    "execution_start": 1651971817935,
    "execution_millis": 334,
    "deepnote_cell_type": "code",
    "deepnote_cell_height": 796,
    "deepnote_output_heights": [
     98,
     282
    ]
   },
   "source": "#import pandas as pd\n#import numpy as np\n#import matplotlib.pyplot as plt\n#from sklearn import Linear_model , datasets\n\n#X , y = datasets.load_diabetes(return_X_y=True)\n#raw = X[:, None , 2]\n\nz_score_average = np.average(raw)\nz_score_std = np.std(raw)\nscaled_z_score = (raw - z_score_average) / z_score_std\n\n\nfig , axs = plt.subplots(2, 1 , sharex= True , tight_layout = True)\n\naxs[0].hist(raw)\naxs[1].hist(scaled_z_score)",
   "execution_count": null,
   "outputs": [
    {
     "output_type": "execute_result",
     "execution_count": 10,
     "data": {
      "text/plain": "(array([32., 66., 98., 90., 64., 50., 23., 12.,  5.,  2.]),\n array([-1.89792941, -1.34956464, -0.80119987, -0.2528351 ,  0.29552967,\n         0.84389444,  1.39225921,  1.94062398,  2.48898875,  3.03735352,\n         3.58571828]),\n <BarContainer object of 10 artists>)"
     },
     "metadata": {}
    },
    {
     "data": {
      "text/plain": "<Figure size 432x288 with 2 Axes>",
      "image/png": "[encoded data removed]"
     },
     "metadata": {
      "needs_background": "light",
      "image/png": {
       "width": 424,
       "height": 280
      }
     },
     "output_type": "display_data"
    }
   ]
  },
  {
   "cell_type": "markdown",
   "source": "implementar el modelo de entrenamiento para z-score, comparado con el entrenamiento con datos crudos\n\n1- declarar funciones con datos crudos y escalados\n* * aplicar la función `LinearRegression()` de la clase *Linear_model* de *sklearn*\n* * dicha funcion `LinearRegression()` será afectada por la función `fit()`que tendrá parámetros:\n* * * la variable que contiene los datos crudos ó escalados y la variable que contiene los elementos de dataset (y)#1\n* * * con el parámetro `number = ` aclarar las veces que se hará la repetición de la función, y medir así el tiempo que tarda en terminarse\n\n2- para medir el tiempo, declarar en una nueva variable la función `timeit` de la clase *timeit* con parámetros: la función que contiene los datos crudos en una regresión lineal. Hacer lo mismo con otra variable con mismos parámetros, pero con los datos escalados\n\n3- imprimir usando `.format(función tiempo)`\n\n\n",
   "metadata": {
    "cell_id": "70b063cdc972495298543cb65a8f19b7",
    "tags": [],
    "deepnote_cell_type": "markdown",
    "deepnote_cell_height": 376.3999938964844
   }
  },
  {
   "cell_type": "code",
   "metadata": {
    "cell_id": "d68c6ecea234495c8edfcd3a8ae8924f",
    "tags": [],
    "deepnote_to_be_reexecuted": false,
    "source_hash": "131d1e42",
    "execution_start": 1651973424739,
    "execution_millis": 67,
    "owner_user_id": "8b336e45-83c0-424e-b4e6-d780ef70120a",
    "deepnote_cell_type": "code",
    "deepnote_cell_height": 309.20001220703125
   },
   "source": "#datos en crudo\ndef raw_training():\n    linear_model.LinearRegression().fit(raw , y)\n\n#datos con z-score\ndef zscore_training():\n    linear_model.LinearRegression().fit(scaled_z_score, y)\n\nraw_timing = timeit.timeit(raw_training, number = 100)\nzscore_timing = timeit.timeit(zscore_training , number = 100)    \n\nprint(' Time with raw data: {}'.format(raw_timing) , ' Time with scaled data(zscore): {}'.format(zscore_timing))",
   "execution_count": null,
   "outputs": [
    {
     "name": "stdout",
     "text": " Time with raw data: 0.055622672000026796  Time with scaled data(zscore): 0.032299568003509194\n",
     "output_type": "stream"
    }
   ]
  },
  {
   "cell_type": "markdown",
   "source": "<a style='text-decoration:none;line-height:16px;display:flex;color:#5B5B62;padding:10px;justify-content:end;' href='https://deepnote.com?utm_source=created-in-deepnote-cell&projectId=f7ed4f37-4313-47ef-a399-629d97cb985b' target=\"_blank\">\n<img alt='Created in deepnote.com' style='display:inline;max-height:16px;margin:0px;margin-right:7.5px;' src='data:image/svg+xml;base64,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' > </img>\nCreated in <span style='font-weight:600;margin-left:4px;'>Deepnote</span></a>",
   "metadata": {
    "tags": [],
    "created_in_deepnote_cell": true,
    "deepnote_cell_type": "markdown"
   }
  }
 ],
 "nbformat": 4,
 "nbformat_minor": 2,
 "metadata": {
  "orig_nbformat": 2,
  "deepnote": {},
  "deepnote_notebook_id": "d3724d96-f201-4499-a10e-49e9b897de84",
  "deepnote_execution_queue": []
 }
}