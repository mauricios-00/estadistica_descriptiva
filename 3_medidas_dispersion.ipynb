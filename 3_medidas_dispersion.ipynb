{
 "cells": [
  {
   "cell_type": "markdown",
   "source": "### Medidas de dispersión\n\nlibrerías necesarias: pandas , matplotlib , seaborn",
   "metadata": {
    "cell_id": "c7eed2f5d4e54f2da541ede3cfe6b539",
    "tags": [],
    "deepnote_cell_type": "markdown",
    "deepnote_cell_height": 100.39999389648438
   }
  },
  {
   "cell_type": "code",
   "metadata": {
    "tags": [],
    "cell_id": "2fc7c3cd-0ee4-4200-bbbd-a74d8c81077b",
    "deepnote_to_be_reexecuted": false,
    "source_hash": "f40697be",
    "execution_start": 1651696890245,
    "execution_millis": 3183,
    "deepnote_cell_type": "code",
    "deepnote_cell_height": 189
   },
   "source": "import pandas as pd\nimport matplotlib.pyplot as plt\nimport seaborn as sns\n\ndf = pd.read_csv('cars.csv')\n\n",
   "execution_count": null,
   "outputs": []
  },
  {
   "cell_type": "markdown",
   "source": "Para hacer el cálculo de la desviación estándar se utiliza la función `.std()`\n* Antes hay que especificar la columna que será analizada, invocando a la librería en cuestión y después especificando la columna por su posición en la lista (el nombre de la columna, no su número de array)",
   "metadata": {
    "cell_id": "4a6aab9de0654068bc6280b5174daf16",
    "tags": [],
    "deepnote_cell_type": "markdown",
    "deepnote_cell_height": 125.69999694824219
   }
  },
  {
   "cell_type": "code",
   "metadata": {
    "cell_id": "0707a5836b4f430687796c9f38845536",
    "tags": [],
    "deepnote_to_be_reexecuted": false,
    "source_hash": "ceb22c35",
    "execution_start": 1651697078600,
    "execution_millis": 12,
    "deepnote_cell_type": "code",
    "deepnote_cell_height": 118,
    "deepnote_output_heights": [
     21
    ]
   },
   "source": "df['price_usd'].std()",
   "execution_count": null,
   "outputs": [
    {
     "output_type": "execute_result",
     "execution_count": 2,
     "data": {
      "text/plain": "6428.1520182029035"
     },
     "metadata": {}
    }
   ]
  },
  {
   "cell_type": "markdown",
   "source": "Para calcular el rango de la distribución hay que operar la **diferencia** los valores más grandes (máximos) y los valores más pequeños (mínimos) de la distribución:\n* usando las funciones `.max()` y `min()` respectivamente\n* antes de eso, como en  el cálculo de \"std\"m, hay que especificar la columna del dataset que será afectada.\n\nsiendo de la siguiente forma: `df['price_usd'].max - df['price_usd']-min`",
   "metadata": {
    "cell_id": "8ed3a842161f44219a4487154eefd73c",
    "tags": [],
    "deepnote_cell_type": "markdown",
    "deepnote_cell_height": 174
   }
  },
  {
   "cell_type": "code",
   "metadata": {
    "cell_id": "fff5e145c6d94b5fb601e1f9d839b33a",
    "tags": [],
    "deepnote_to_be_reexecuted": false,
    "source_hash": "794f81f8",
    "execution_start": 1651697448691,
    "execution_millis": 4,
    "deepnote_cell_type": "code",
    "deepnote_cell_height": 154,
    "deepnote_output_heights": [
     21
    ]
   },
   "source": "rango = 0\nrango =  df['price_usd'].max() - df['price_usd'].min()\nrango",
   "execution_count": null,
   "outputs": [
    {
     "output_type": "execute_result",
     "execution_count": 3,
     "data": {
      "text/plain": "49999.0"
     },
     "metadata": {}
    }
   ]
  },
  {
   "cell_type": "markdown",
   "source": "#### Para calcular los cuartiles:\n*Equivalencia en porcentajes de cada una de los cuartiles: Q1 = 25%  Q2 (µ) = 50% Q3 = 75%*\n* * *a esto se le agregan los alores máximos y mínimos en cada extremo respectivamente: min = 0% max = 100%*\n* * *(también pueden usarse las funciones `min()` y `max()`)\n\n* **Quartil**: se usa la función `quantile()` especificando por un parámetro `q` su franja del cuartil\nde la siguiente forma al ejercicio actual: `quartil_# = df['price_usd'].quantile(q=0.#)`",
   "metadata": {
    "cell_id": "76c8fb454e6645af9d5e67270ada9567",
    "tags": [],
    "deepnote_cell_type": "markdown",
    "deepnote_cell_height": 235
   }
  },
  {
   "cell_type": "code",
   "metadata": {
    "cell_id": "1ad3e11e2b4846db90c213ed48f1a0de",
    "tags": [],
    "deepnote_to_be_reexecuted": false,
    "source_hash": "fcd2ce9c",
    "execution_start": 1651698684746,
    "execution_millis": 8,
    "deepnote_cell_type": "code",
    "deepnote_cell_height": 237.1999969482422
   },
   "source": "#Quartiles\nmedian = df['price_usd'].median()\nQ1 = df['price_usd'].quantile(q=0.25)\nQ3 = df['price_usd'].quantile(q=0.75)\nmin_val = df['price_usd'].quantile(q=0)\nmax_val = df['price_usd'].quantile(q=1.0)\n\nprint(min_val, Q1 , median , Q3 , max_val) ",
   "execution_count": null,
   "outputs": [
    {
     "name": "stdout",
     "text": "1.0 2100.0 4800.0 8990.0 50000.0\n",
     "output_type": "stream"
    }
   ]
  },
  {
   "cell_type": "markdown",
   "source": "Para calcular el **rango intercuartil**, simplemente se establese la  diferencia entre los cuartiles Q3 y Q1",
   "metadata": {
    "cell_id": "1fef9e0c605a4ed985803c3a9f2cbd08",
    "tags": [],
    "deepnote_cell_type": "markdown",
    "deepnote_cell_height": 52.399993896484375
   }
  },
  {
   "cell_type": "code",
   "metadata": {
    "cell_id": "33a76e1f9864496ebc35db1c9a91d0e3",
    "tags": [],
    "deepnote_to_be_reexecuted": false,
    "source_hash": "7e09e3cb",
    "execution_start": 1651698801174,
    "execution_millis": 3,
    "deepnote_cell_type": "code",
    "deepnote_cell_height": 136,
    "deepnote_output_heights": [
     21
    ]
   },
   "source": "iqr = Q3 - Q1\niqr",
   "execution_count": null,
   "outputs": [
    {
     "output_type": "execute_result",
     "execution_count": 5,
     "data": {
      "text/plain": "6890.0"
     },
     "metadata": {}
    }
   ]
  },
  {
   "cell_type": "markdown",
   "source": "### Limites para detección de outliers\n#### en datos simétricamente distribuidos\n\nDatos entre $$Q_1 \\times \\text{IQR}$$ y $$Q_3 + 1.5 \\times \\text{IQR}$$",
   "metadata": {
    "cell_id": "abf57dc0f67e4fafbea072bc045d53f9",
    "tags": [],
    "deepnote_cell_type": "markdown",
    "deepnote_cell_height": 136.39999389648438
   }
  },
  {
   "cell_type": "code",
   "metadata": {
    "cell_id": "a2d7451911e3452096a3e49a613d77a1",
    "tags": [],
    "deepnote_to_be_reexecuted": false,
    "source_hash": "a5105cf2",
    "execution_start": 1651699187153,
    "execution_millis": 1,
    "deepnote_cell_type": "code",
    "deepnote_cell_height": 165.1999969482422
   },
   "source": "min_limit = Q1 -1.5*iqr\nmax_limit = Q3 + 1.5*iqr\n\nprint('rango para detección de outliers {} {}:'.format(min_limit , max_limit))",
   "execution_count": null,
   "outputs": [
    {
     "name": "stdout",
     "text": "rango para detección de outliers -8235.0 19325.0:\n",
     "output_type": "stream"
    }
   ]
  },
  {
   "cell_type": "markdown",
   "source": "Al operar las variables se observa que el valor mínimo es negativo. Lo que deja en claro que la distribución NO es simétrica\n* Este resultado matemáticamente no tiene sentido porque se está hablando de una variable donde solo se admiten valores positivos\n\n*La razón de los valores negativos es porque se está tratando a la distribución como si fuera normal, cuando no lo es*\n\nPara graficar una distribución simétrica  se usa la función `.histplot()` de la librería seaborn (sns)",
   "metadata": {
    "cell_id": "e732dbd494614eaba2319064958951ec",
    "tags": [],
    "deepnote_cell_type": "markdown",
    "deepnote_cell_height": 184.5
   }
  },
  {
   "cell_type": "code",
   "metadata": {
    "cell_id": "c32dbcd75af442008a7b5d9e9f7e9c91",
    "tags": [],
    "deepnote_to_be_reexecuted": false,
    "source_hash": "17d9c872",
    "execution_start": 1651699757811,
    "execution_millis": 417,
    "deepnote_cell_type": "code",
    "deepnote_cell_height": 414,
    "deepnote_output_heights": [
     21,
     265
    ]
   },
   "source": "sns.histplot(df['price_usd'])",
   "execution_count": null,
   "outputs": [
    {
     "output_type": "execute_result",
     "execution_count": 8,
     "data": {
      "text/plain": "<AxesSubplot:xlabel='price_usd', ylabel='Count'>"
     },
     "metadata": {}
    },
    {
     "data": {
      "text/plain": "<Figure size 432x288 with 1 Axes>",
      "image/png": "[encoded data removed]"
     },
     "metadata": {
      "needs_background": "light",
      "image/png": {
       "width": 395,
       "height": 263
      }
     },
     "output_type": "display_data"
    }
   ]
  },
  {
   "cell_type": "markdown",
   "source": "Confirmando nuestra hipótesis anterior, se puede observa que la distribución tiene un claro sesgo a la izquierda\n\nPara dibujar el diagrama de caja asociado a la distribución:\n* se usa la función `boxplot()` con parámetros:\n* * el dataset especificando la columna que se va a estudiar",
   "metadata": {
    "cell_id": "bca1dcf42505404c8e6f9024b6566ed7",
    "tags": [],
    "deepnote_cell_type": "markdown",
    "deepnote_cell_height": 165.60000610351562
   }
  },
  {
   "cell_type": "code",
   "metadata": {
    "cell_id": "b376b219949542939e9f6a6ee8805864",
    "tags": [],
    "deepnote_to_be_reexecuted": false,
    "source_hash": "658357b0",
    "execution_start": 1651700036111,
    "execution_millis": 543,
    "deepnote_cell_type": "code",
    "deepnote_cell_height": 493.3999938964844,
    "deepnote_output_heights": [
     null,
     21,
     265
    ]
   },
   "source": "sns.boxplot(df['price_usd'])",
   "execution_count": null,
   "outputs": [
    {
     "name": "stderr",
     "text": "/shared-libs/python3.7/py/lib/python3.7/site-packages/seaborn/_decorators.py:43: FutureWarning: Pass the following variable as a keyword arg: x. From version 0.12, the only valid positional argument will be `data`, and passing other arguments without an explicit keyword will result in an error or misinterpretation.\n  FutureWarning\n",
     "output_type": "stream"
    },
    {
     "output_type": "execute_result",
     "execution_count": 9,
     "data": {
      "text/plain": "<AxesSubplot:xlabel='price_usd'>"
     },
     "metadata": {}
    },
    {
     "data": {
      "text/plain": "<Figure size 432x288 with 1 Axes>",
      "image/png": "[encoded data removed]"
     },
     "metadata": {
      "needs_background": "light",
      "image/png": {
       "width": 353,
       "height": 263
      }
     },
     "output_type": "display_data"
    }
   ]
  },
  {
   "cell_type": "markdown",
   "source": "Para que quede más estético:\n\n",
   "metadata": {
    "cell_id": "b14fce1f5a9948509daf8ca8feb10e0f",
    "tags": [],
    "deepnote_cell_type": "markdown",
    "deepnote_cell_height": 52.399993896484375
   }
  },
  {
   "cell_type": "code",
   "metadata": {
    "cell_id": "237d2373645541218ccf3c32c0cfd961",
    "tags": [],
    "deepnote_to_be_reexecuted": false,
    "source_hash": "333ccdb3",
    "execution_start": 1651700873640,
    "execution_millis": 543,
    "deepnote_cell_type": "code",
    "deepnote_cell_height": 896.4000244140625,
    "deepnote_output_heights": [
     21,
     21,
     596
    ]
   },
   "source": "sns.set(rc={'figure.figsize':(11,10)})\nf , (ax_boxa , ax_histo) = plt.subplots(2, sharex = True , gridspec_kw = {\"height_ratios\": (.6 , .4)})\nsns.boxplot(df['price_usd'], ax =ax_boxa)\nsns.histplot(df['price_usd'],ax = ax_histo)\nax_hist.set(xlabel='')",
   "execution_count": null,
   "outputs": [
    {
     "name": "stderr",
     "text": "/shared-libs/python3.7/py/lib/python3.7/site-packages/seaborn/_decorators.py:43: FutureWarning: Pass the following variable as a keyword arg: x. From version 0.12, the only valid positional argument will be `data`, and passing other arguments without an explicit keyword will result in an error or misinterpretation.\n  FutureWarning\n",
     "output_type": "stream"
    },
    {
     "output_type": "execute_result",
     "execution_count": 35,
     "data": {
      "text/plain": "[Text(0.5, 269.79090909090905, '')]"
     },
     "metadata": {}
    },
    {
     "data": {
      "text/plain": "<Figure size 792x720 with 2 Axes>",
      "image/png": "[encoded data removed]"
     },
     "metadata": {
      "image/png": {
       "width": 682,
       "height": 594
      }
     },
     "output_type": "display_data"
    }
   ]
  },
  {
   "cell_type": "markdown",
   "source": "En el diagrama de caja, podemos ver que los valores de 20,000 en adelante son outliers (valores atípicos)",
   "metadata": {
    "cell_id": "95fde42ab41f4a18a91e93e0f087241c",
    "tags": [],
    "deepnote_cell_type": "markdown",
    "deepnote_cell_height": 52.399993896484375
   }
  },
  {
   "cell_type": "markdown",
   "source": "Es posible calcular varios diagrames de caja (boxplot) separando por una cierta variable categórica\n\n* Para ello , a la hora de llamar a la función `.boxplot()` simplemente hay que definir qué variable estará en el eje de las x, y cuál estará en el otro\n\n* * Cada una de las variables ( x , y ) deben estar separadas por una coma y declararlas con la misma metodología\n* * Luego, separado por una coma. Se debe asignar en una variable  *\"data\"* el dataset\n\n`sns.boxplot(x = df['price_usd'] , y = df[engine_fuel] , datos = df)`",
   "metadata": {
    "cell_id": "3122236af1d14550a27961060b38ec31",
    "tags": [],
    "deepnote_cell_type": "markdown",
    "deepnote_cell_height": 210.39999389648438
   }
  },
  {
   "cell_type": "code",
   "metadata": {
    "cell_id": "27313a10324e4cb988fb2a0a49da0fd2",
    "tags": [],
    "deepnote_to_be_reexecuted": false,
    "source_hash": "d4145338",
    "execution_start": 1651701521403,
    "execution_millis": 301,
    "deepnote_cell_type": "code",
    "deepnote_cell_height": 763,
    "deepnote_output_heights": [
     21,
     596
    ]
   },
   "source": "sns.boxplot(x = df['engine_fuel'] , y = df['price_usd'], data = df)\n",
   "execution_count": null,
   "outputs": [
    {
     "output_type": "execute_result",
     "execution_count": 45,
     "data": {
      "text/plain": "<AxesSubplot:xlabel='engine_fuel', ylabel='price_usd'>"
     },
     "metadata": {}
    },
    {
     "data": {
      "text/plain": "<Figure size 792x720 with 1 Axes>",
      "image/png": "[encoded data removed]"
     },
     "metadata": {
      "image/png": {
       "width": 689,
       "height": 594
      }
     },
     "output_type": "display_data"
    }
   ]
  },
  {
   "cell_type": "markdown",
   "source": "El diagrama de caja permite ver mucho mejor la distribución de los datos por categorías",
   "metadata": {
    "cell_id": "022b0f9e8c324700bb1575c3fa40f816",
    "tags": [],
    "owner_user_id": "8b336e45-83c0-424e-b4e6-d780ef70120a",
    "deepnote_cell_type": "markdown",
    "deepnote_cell_height": 98
   }
  },
  {
   "cell_type": "markdown",
   "source": "<a style='text-decoration:none;line-height:16px;display:flex;color:#5B5B62;padding:10px;justify-content:end;' href='https://deepnote.com?utm_source=created-in-deepnote-cell&projectId=f7ed4f37-4313-47ef-a399-629d97cb985b' target=\"_blank\">\n<img alt='Created in deepnote.com' style='display:inline;max-height:16px;margin:0px;margin-right:7.5px;' src='data:image/svg+xml;base64,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' > </img>\nCreated in <span style='font-weight:600;margin-left:4px;'>Deepnote</span></a>",
   "metadata": {
    "tags": [],
    "created_in_deepnote_cell": true,
    "deepnote_cell_type": "markdown"
   }
  }
 ],
 "nbformat": 4,
 "nbformat_minor": 2,
 "metadata": {
  "orig_nbformat": 2,
  "deepnote": {},
  "deepnote_notebook_id": "9472355e-e9e2-48e9-b751-25303556922b",
  "deepnote_execution_queue": []
 }
}